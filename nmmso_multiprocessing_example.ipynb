{
 "cells": [
  {
   "cell_type": "markdown",
   "metadata": {},
   "source": [
    "This example shows how we can use NMMSO across several CPU cores. We'll use a simple 1D model to demonstrate it.\n",
    "\n",
    "We need to import 2 modules from `pynmmso` now"
   ]
  },
  {
   "cell_type": "code",
   "execution_count": 1,
   "metadata": {},
   "outputs": [],
   "source": [
    "from pynmmso import Nmmso\n",
    "from pynmmso import MultiprocessorFitnessCaller"
   ]
  },
  {
   "cell_type": "markdown",
   "metadata": {},
   "source": [
    "And we can set up a model as normal - this has 2 peaks (one global and one local)"
   ]
  },
  {
   "cell_type": "code",
   "execution_count": 2,
   "metadata": {},
   "outputs": [],
   "source": [
    "class MyProblem:\n",
    "    @staticmethod\n",
    "    def fitness(params):\n",
    "        x = params[0]\n",
    "        return -x**4 + x**3 + 3 * x**2\n",
    "\n",
    "    @staticmethod\n",
    "    def get_bounds():\n",
    "        return [-2], [2]"
   ]
  },
  {
   "cell_type": "markdown",
   "metadata": {},
   "source": [
    "We now need to specify the number of evaluations and the number of processes (_workers_) we want"
   ]
  },
  {
   "cell_type": "code",
   "execution_count": 3,
   "metadata": {},
   "outputs": [],
   "source": [
    "number_of_fitness_evaluations = 1000\n",
    "num_workers = 4"
   ]
  },
  {
   "cell_type": "markdown",
   "metadata": {},
   "source": [
    "We setup the MultiprocessorFitnessCaller class using `with`, and give the variable name (in this case `my_multiprocess_call`) to the `fitness_caller` argument of the `Nmmso` call "
   ]
  },
  {
   "cell_type": "code",
   "execution_count": 4,
   "metadata": {},
   "outputs": [],
   "source": [
    "with MultiprocessorFitnessCaller(num_workers) as my_multiprocess_call:\n",
    "    nmmso = Nmmso(MyProblem(), fitness_caller=my_multiprocess_call)\n",
    "    my_result = nmmso.run(number_of_fitness_evaluations)"
   ]
  },
  {
   "cell_type": "markdown",
   "metadata": {},
   "source": [
    "We can print the results in the same way as before"
   ]
  },
  {
   "cell_type": "code",
   "execution_count": 5,
   "metadata": {},
   "outputs": [
    {
     "name": "stdout",
     "output_type": "stream",
     "text": [
      "Mode at [1.65586884] has value 5.24790982505031\n",
      "Mode at [-0.90586907] has value 1.0450589249494546\n"
     ]
    }
   ],
   "source": [
    "for mode_result in my_result:\n",
    "    print(\"Mode at {} has value {}\".format(mode_result.location, mode_result.value))"
   ]
  },
  {
   "cell_type": "markdown",
   "metadata": {},
   "source": [
    "We have got the correct result: 2 maxima have been found at the correct locations"
   ]
  }
 ],
 "metadata": {
  "kernelspec": {
   "display_name": "Python 3",
   "language": "python",
   "name": "python3"
  },
  "language_info": {
   "codemirror_mode": {
    "name": "ipython",
    "version": 3
   },
   "file_extension": ".py",
   "mimetype": "text/x-python",
   "name": "python",
   "nbconvert_exporter": "python",
   "pygments_lexer": "ipython3",
   "version": "3.7.3"
  }
 },
 "nbformat": 4,
 "nbformat_minor": 2
}
