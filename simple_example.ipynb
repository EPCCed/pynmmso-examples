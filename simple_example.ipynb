{
 "cells": [
  {
   "cell_type": "markdown",
   "metadata": {},
   "source": [
    "This example shows a simple use case of NMMSO, where we can give inputs to 2D model and check that NMMSO correctly finds the known global peaks "
   ]
  },
  {
   "cell_type": "code",
   "execution_count": 1,
   "metadata": {},
   "outputs": [],
   "source": [
    "from pynmmso import Nmmso"
   ]
  },
  {
   "cell_type": "markdown",
   "metadata": {},
   "source": [
    "`sphere` defines our simple 2D model; the `get_bounds` method returns the bounds of the model parameters. The argument `x` to `fitness` is a Numpy array of length 2, and there are 4 global peaks of 2 (i.e. as a result of summing x<sup>2</sup>) at -1, -1; -1, 1; 1, -1; and 1, 1 "
   ]
  },
  {
   "cell_type": "code",
   "execution_count": 2,
   "metadata": {},
   "outputs": [],
   "source": [
    "class sphere:\n",
    "    @staticmethod\n",
    "    def fitness(x):\n",
    "        return sum(x*x)\n",
    "    \n",
    "    @staticmethod\n",
    "    def get_bounds():\n",
    "        return([-1,-1],[1,1])"
   ]
  },
  {
   "cell_type": "markdown",
   "metadata": {},
   "source": [
    "We set up the NMMSO instance and state that we want the algorithm to run 1000 times"
   ]
  },
  {
   "cell_type": "code",
   "execution_count": 3,
   "metadata": {},
   "outputs": [],
   "source": [
    "n = Nmmso(sphere)\n",
    "evolutions = 1000"
   ]
  },
  {
   "cell_type": "markdown",
   "metadata": {},
   "source": [
    "The run method of the NMMSO class carries out the iterative search"
   ]
  },
  {
   "cell_type": "code",
   "execution_count": 4,
   "metadata": {},
   "outputs": [],
   "source": [
    "my_result = n.run(evolutions)"
   ]
  },
  {
   "cell_type": "code",
   "execution_count": 5,
   "metadata": {},
   "outputs": [
    {
     "name": "stdout",
     "output_type": "stream",
     "text": [
      "Mode at [-0.99999999  0.99999999] has value 1.9999999649276927\n",
      "Mode at [ 1. -1.] has value 1.999999998036494\n",
      "Mode at [1. 1.] has value 1.9999999918430789\n",
      "Mode at [-0.99999999 -1.        ] has value 1.9999999743988517\n"
     ]
    }
   ],
   "source": [
    "for r in my_result:\n",
    "    print(\"Mode at {} has value {}\".format(r.location, r.value))"
   ]
  },
  {
   "cell_type": "markdown",
   "metadata": {},
   "source": [
    "As expected, there are 4 results (i.e. 4 global peaks), all approximately have the value 2, and they are at the correct locations  "
   ]
  }
 ],
 "metadata": {
  "kernelspec": {
   "display_name": "Python 3",
   "language": "python",
   "name": "python3"
  },
  "language_info": {
   "codemirror_mode": {
    "name": "ipython",
    "version": 3
   },
   "file_extension": ".py",
   "mimetype": "text/x-python",
   "name": "python",
   "nbconvert_exporter": "python",
   "pygments_lexer": "ipython3",
   "version": "3.7.3"
  },
  "pycharm": {
   "stem_cell": {
    "cell_type": "raw",
    "metadata": {
     "collapsed": false
    },
    "source": []
   }
  }
 },
 "nbformat": 4,
 "nbformat_minor": 2
}
